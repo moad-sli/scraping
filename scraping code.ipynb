{
 "cells": [
  {
   "cell_type": "code",
   "execution_count": 5,
   "metadata": {},
   "outputs": [],
   "source": [
    "from bs4 import BeautifulSoup as bs\n",
    "import requests as req\n",
    "import json\n"
   ]
  },
  {
   "cell_type": "code",
   "execution_count": 6,
   "metadata": {},
   "outputs": [
    {
     "data": {
      "text/plain": [
       "65"
      ]
     },
     "execution_count": 6,
     "metadata": {},
     "output_type": "execute_result"
    }
   ],
   "source": [
    "#ouvrir un nouveau fichier pour ecrire les donnees\n",
    "file=open('data4.csv','w',encoding='utf-8')\n",
    "import csv\n",
    "writer=csv.writer(file)\n",
    "L=[\"nom\",\"date\",\"lieu\",\"titre\",\"annonce\",'prix',\"type\",\"autres.info\",\"telephone\",\"vues\"]\n",
    "writer.writerow(L)"
   ]
  },
  {
   "cell_type": "code",
   "execution_count": 7,
   "metadata": {},
   "outputs": [],
   "source": [
    "#les liens des annonces dans les pages d'avito\n",
    "def lien(soup):\n",
    "    L=[]\n",
    "    for x in soup.findAll('div',{'class':'listing listing-thumbs'}):\n",
    "        for y in x.findAll('div',{'class':'item li-hover'}):\n",
    "            for z in y.findAll('h2',{'class':'fs14'}):\n",
    "                L.append(z.find('a')['href'])\n",
    "    return L"
   ]
  },
  {
   "cell_type": "code",
   "execution_count": 8,
   "metadata": {},
   "outputs": [],
   "source": [
    "#code\n",
    "url=\"https://www.avito.ma/fr/maroc/?o=\"\n",
    "r=req.session()\n",
    "headers={'User-Agent':''}\n",
    "r.headers.update(headers)\n",
    "for i in range(1,17800):\n",
    "    u=url+str(i)\n",
    "    soup=bs(r.get(u).content,'lxml')\n",
    "    L=lien(soup)\n",
    "    j=0\n",
    "    for j in range(len(L)):\n",
    "        soup=bs(r.get(L[j]).content,'lxml')\n",
    "        try:\n",
    "            name=json.loads(soup.find('script', type='application/ld+json').text,strict=False)['offers']['seller']['name']#nom\n",
    "            \n",
    "        except:\n",
    "            name='nan'\n",
    "        try:\n",
    "            date=soup.find('abbr',{'class':'date dtstart value'}).text.replace('\\n','')#date\n",
    "        except:\n",
    "            date='nan'\n",
    "        try:    \n",
    "            lieu=soup.find('h2',{'class':'font-normal fs13 lh30 no-margin'}).text#lieu\n",
    "        except:\n",
    "            lieu='nan'\n",
    "        try:\n",
    "            titre=soup.find('h1',{'class':'page-header mbm'}).text.replace('\\n','')#titre\n",
    "            if(\"ANNONCE\"in titre):\n",
    "                titre=titre.split('ANNONCE')[0]\n",
    "        except:\n",
    "            titre='nan'\n",
    "        try:\n",
    "            annonce=soup.find('div',{'class':'span10'}).text.replace('\\n','')#annonce\n",
    "        except:\n",
    "            annoce='nan'\n",
    "        try:\n",
    "            prix=soup.find('span',{'class':'amount value'}).text#prix\n",
    "        except:\n",
    "            prix='test'\n",
    "        try:\n",
    "            T=soup.find('aside',{'class':'panel panel-body panel-info'}).text.replace('\\n',' ').split(':')\n",
    "            typ=T[len(T)-1]#type\n",
    "            autres=''.join(T[0:len(T)-1])# autres informations\n",
    "        except:\n",
    "            typ='nan'\n",
    "            autres='nan'\n",
    "        try:\n",
    "            scripts=soup.select('script')\n",
    "            scripts=(script for script in scripts)\n",
    "            for script in scripts:\n",
    "                if ('telephone'in script.text):\n",
    "                    tele=script.text.split('telephone')[1][3:13]#telephone\n",
    "        except:\n",
    "            tele='nan'\n",
    "        try:\n",
    "            vue=soup.find('div',{'class':'panel-heading panel-heading-small'}).text.replace('\\n','').split()[1]#nombre de vues\n",
    "        except:\n",
    "            vue='nan'\n",
    "        try:\n",
    "            writer.writerow([name,date,lieu,titre,annonce,prix,typ,autres,tele,vue])\n",
    "        except:\n",
    "            m=1\n",
    "    "
   ]
  },
  {
   "cell_type": "code",
   "execution_count": null,
   "metadata": {},
   "outputs": [],
   "source": []
  }
 ],
 "metadata": {
  "kernelspec": {
   "display_name": "Python 3",
   "language": "python",
   "name": "python3"
  },
  "language_info": {
   "codemirror_mode": {
    "name": "ipython",
    "version": 3
   },
   "file_extension": ".py",
   "mimetype": "text/x-python",
   "name": "python",
   "nbconvert_exporter": "python",
   "pygments_lexer": "ipython3",
   "version": "3.7.3"
  }
 },
 "nbformat": 4,
 "nbformat_minor": 2
}
